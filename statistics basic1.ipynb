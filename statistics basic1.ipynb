{
 "cells": [
  {
   "cell_type": "markdown",
   "id": "811d4db3-ceb2-4601-b47d-a2a899deb36e",
   "metadata": {},
   "source": [
    "<span style =color:red;font-size:60px>ASSIGNMENT</span>"
   ]
  },
  {
   "cell_type": "markdown",
   "id": "fd0f1782-fa39-44db-bd09-b00327888b7e",
   "metadata": {},
   "source": [
    "<span style =color:red;font-size:50px>STATISTICS BASIC-1</span>"
   ]
  },
  {
   "cell_type": "markdown",
   "id": "79651412-d047-4048-85a4-87575556b69c",
   "metadata": {},
   "source": [
    "<span style=color:green>Q1. What is Statistics?</span>"
   ]
  },
  {
   "cell_type": "markdown",
   "id": "ecb99594-71b9-4556-b657-a0074aa07e82",
   "metadata": {},
   "source": [
    "Ans-"
   ]
  },
  {
   "cell_type": "markdown",
   "id": "604802ec-ff6c-422b-974b-746a09f39945",
   "metadata": {},
   "source": [
    "Statistics is a branch of mathematics that deals with the collection, analysis, interpretation, presentation, and organization of data. It provides methods for making inferences and decisions in the face of uncertainty. The goal of statistics is to extract meaningful information from data, which can then be used to make informed decisions or draw conclusions about a population based on a sample.\n",
    "\n",
    "There are two main branches of statistics: descriptive statistics and inferential statistics."
   ]
  },
  {
   "cell_type": "markdown",
   "id": "c948773a-bfd8-484d-934d-dc1070c27e8e",
   "metadata": {},
   "source": [
    "***Descriptive statistics:***"
   ]
  },
  {
   "cell_type": "markdown",
   "id": "244f83ce-3408-4107-b4f9-4c862243b904",
   "metadata": {},
   "source": [
    "Descriptive statistics involve methods for summarizing and organizing data. This includes measures of central tendency (such as mean, median, and mode) and measures of dispersion (such as range, variance, and standard deviation). Descriptive statistics provide a way to describe the main features of a dataset."
   ]
  },
  {
   "cell_type": "markdown",
   "id": "6687f68b-d1b1-4714-acbb-876c1529bbcf",
   "metadata": {},
   "source": [
    "***Inferential statistics:***"
   ]
  },
  {
   "cell_type": "markdown",
   "id": "d1bda59a-707e-4e98-b5c8-6466a24491a1",
   "metadata": {},
   "source": [
    " Inferential statistics involve making inferences and predictions about a population based on a sample of data. This includes hypothesis testing, confidence intervals, and regression analysis. Inferential statistics allow researchers to draw conclusions about a larger group based on the analysis of a representative subset."
   ]
  },
  {
   "cell_type": "markdown",
   "id": "4cf40cfa-5c11-4534-a407-1a1db2559a1b",
   "metadata": {},
   "source": [
    "<span style=color:green>Q2. Define the different types of statistics and give an example of when each type might be used.</span>"
   ]
  },
  {
   "cell_type": "markdown",
   "id": "f8ba0faa-122d-4032-a1b1-50480329a778",
   "metadata": {},
   "source": [
    "Ans-"
   ]
  },
  {
   "cell_type": "markdown",
   "id": "820c6be6-19d3-4d65-921a-17950d891b3a",
   "metadata": {},
   "source": [
    "\n",
    "Statistics can be broadly categorized into two main types: descriptive statistics and inferential statistics."
   ]
  },
  {
   "cell_type": "markdown",
   "id": "a70bdfa7-a8fb-4a04-a5ca-5b9319800575",
   "metadata": {},
   "source": [
    "***Descriptive statistics:***"
   ]
  },
  {
   "cell_type": "markdown",
   "id": "249552fa-ea69-49ca-ab11-724d18b2c2a4",
   "metadata": {},
   "source": [
    " Descriptive statistics involve methods for summarizing and presenting data in a meaningful way. It provides a snapshot of the main features of a dataset without making inferences about a larger population."
   ]
  },
  {
   "cell_type": "markdown",
   "id": "6a30308b-7647-4233-9c2d-2b731b6b18e7",
   "metadata": {},
   "source": [
    "***Example:***"
   ]
  },
  {
   "cell_type": "markdown",
   "id": "0eb82e75-86fb-45ab-8d0f-e640972dc9b9",
   "metadata": {},
   "source": [
    " Imagine you have collected the heights of students in a classroom. Descriptive statistics would include measures like the mean height, median height, and the range of heights in that specific group. Graphical representations such as histograms or box plots could also be used to visually display the distribution of heights."
   ]
  },
  {
   "cell_type": "markdown",
   "id": "88119052-ec01-4975-9ca3-1b03202a80c5",
   "metadata": {},
   "source": [
    "***Inferential statistics:***"
   ]
  },
  {
   "cell_type": "markdown",
   "id": "fa9f6bbf-4567-461c-9164-ece36e4803f5",
   "metadata": {},
   "source": [
    "Inferential statistics involve making inferences and predictions about a population based on a sample of data. It helps in drawing conclusions and generalizations beyond the observed data."
   ]
  },
  {
   "cell_type": "markdown",
   "id": "18312ac5-a4d5-43bb-9ad2-81d566996a20",
   "metadata": {},
   "source": [
    " Suppose you want to know if there is a significant difference in the average test scores of students who attended a tutoring program compared to those who did not. You could take a sample of students from each group, calculate the mean test scores and use inferential statistics, such as a t-test, to determine if the observed difference is likely to be a real effect or if it could have occurred by chance."
   ]
  },
  {
   "cell_type": "markdown",
   "id": "aacc6ec6-491e-4a78-81d8-5617e0f2a141",
   "metadata": {},
   "source": [
    "<span style=color:green>Q3. What are the different types of data and how do they differ from each other? Provide an example of\n",
    "each type of data.</span>"
   ]
  },
  {
   "cell_type": "markdown",
   "id": "3ab87120-e5c4-45df-81ab-87879970ef2d",
   "metadata": {},
   "source": [
    "Ans-"
   ]
  },
  {
   "cell_type": "markdown",
   "id": "ec9f7b9f-c550-4cc5-b884-368cff6da069",
   "metadata": {},
   "source": [
    "Data can be classified into different types based on its nature and characteristics. The main types of data are:"
   ]
  },
  {
   "cell_type": "markdown",
   "id": "67eaf266-dcbd-4712-a8b8-9e58e1e1c953",
   "metadata": {},
   "source": [
    "<span style=color:blue;font-size:20px>Quantitative:</span>"
   ]
  },
  {
   "cell_type": "markdown",
   "id": "55b06d33-6fba-49ce-949d-833da6fd5297",
   "metadata": {},
   "source": [
    "***Discrete:***"
   ]
  },
  {
   "cell_type": "markdown",
   "id": "31f2b8ee-7ca1-4280-838b-9420011c1e0f",
   "metadata": {},
   "source": [
    " Discrete data consists of separate, distinct values and is often counted in whole numbers."
   ]
  },
  {
   "cell_type": "markdown",
   "id": "dc5b35d8-3646-41e2-b9f3-aedc37552300",
   "metadata": {},
   "source": [
    "***Example:*** Number of students in a class. You can't have a fraction or decimal of a student."
   ]
  },
  {
   "cell_type": "markdown",
   "id": "7e5e2d3e-4029-4905-95d3-b8428a4ac167",
   "metadata": {},
   "source": [
    "***Continuous Data:***"
   ]
  },
  {
   "cell_type": "markdown",
   "id": "e7ade237-8ca3-4b6b-b67c-75204a6b4267",
   "metadata": {},
   "source": [
    " Continuous data can take any value within a given range and can have an infinite number of possible values."
   ]
  },
  {
   "cell_type": "markdown",
   "id": "9bfdf68b-adca-4f3a-a2d2-6bea977cbb75",
   "metadata": {},
   "source": [
    "***Example:*** Height measured in inches or weight measured in pounds. These values can take on any number within a given range."
   ]
  },
  {
   "cell_type": "markdown",
   "id": "b34434f0-fc1e-4eec-8ad6-125d31a7c145",
   "metadata": {},
   "source": [
    "<span style=color:blue;font-size:20px>Qualitative:</span>"
   ]
  },
  {
   "cell_type": "markdown",
   "id": "aaad94e9-4de8-42c2-a039-8ed4b9e87e0f",
   "metadata": {},
   "source": [
    "***Nominal Data:***"
   ]
  },
  {
   "cell_type": "markdown",
   "id": "fc6ce758-64cd-47eb-91f5-ac6c7929b97c",
   "metadata": {},
   "source": [
    " Nominal data represents categories with no inherent order or ranking. It is purely qualitative."
   ]
  },
  {
   "cell_type": "markdown",
   "id": "fc4e722c-abce-4751-a9d4-f58c75ca3839",
   "metadata": {},
   "source": [
    "***Example:*** Colors of cars (e.g., red, blue, green). There is no inherent order or ranking among the colors."
   ]
  },
  {
   "cell_type": "markdown",
   "id": "c9d6d4e5-1282-4a40-972b-44275abf475d",
   "metadata": {},
   "source": [
    "***Ordinal Data:***"
   ]
  },
  {
   "cell_type": "markdown",
   "id": "53bd866f-4bab-42bb-b8ac-2b3930c058b6",
   "metadata": {},
   "source": [
    " Ordinal data represents categories with a meaningful order or ranking but with unknown or unequal intervals between them."
   ]
  },
  {
   "cell_type": "markdown",
   "id": "d522f0b8-2082-46d0-aa2a-6254ce12d807",
   "metadata": {},
   "source": [
    "***Example:*** Education levels (e.g., high school diploma, bachelor's degree, master's degree). While there is an order, the difference in educational attainment between high school and bachelor's is not necessarily the same as between bachelor's and master's."
   ]
  },
  {
   "cell_type": "markdown",
   "id": "e5dcceb6-c667-471b-9636-946a995220e5",
   "metadata": {},
   "source": [
    "<span style=color:green>Q4. Categorise the following datasets with respect to quantitative and qualitative data types:\n",
    "(i) Grading in exam: A+, A, B+, B, C+, C, D, E\n",
    "(ii) Colour of mangoes: yellow, green, orange, red\n",
    "(iii) Height data of a class: [178.9, 179, 179.5, 176, 177.2, 178.3, 175.8,...]\n",
    "(iv) Number of mangoes exported by a farm: [500, 600, 478, 672, ...]</span>"
   ]
  },
  {
   "cell_type": "markdown",
   "id": "cae600cc-518f-420d-b7fa-76ab7f8a3ce0",
   "metadata": {},
   "source": [
    "Ans-"
   ]
  },
  {
   "cell_type": "markdown",
   "id": "9eed233b-5526-4e08-805a-74d3d20fb398",
   "metadata": {},
   "source": [
    "Let's categorize each dataset with respect to quantitative and qualitative data types:"
   ]
  },
  {
   "cell_type": "markdown",
   "id": "677d0d94-e65f-4916-be1b-34a548106eb5",
   "metadata": {},
   "source": [
    "***(i) Grading in exam: A+, A, B+, B, C+, C, D, E***"
   ]
  },
  {
   "cell_type": "markdown",
   "id": "9d8b44a1-7b54-4512-ad46-7b67ff383a1d",
   "metadata": {},
   "source": [
    "***Data Type:*** Qualitative (Ordinal)"
   ]
  },
  {
   "cell_type": "markdown",
   "id": "59089263-133b-4028-9226-52bea05b01cc",
   "metadata": {},
   "source": [
    "***(ii) Colour of mangoes: yellow, green, orange, red***"
   ]
  },
  {
   "cell_type": "markdown",
   "id": "eff4a0e6-87ef-4c10-984d-94bc8afc558a",
   "metadata": {},
   "source": [
    "***Data Type:*** Qualitative (Nominal)"
   ]
  },
  {
   "cell_type": "markdown",
   "id": "33b574b2-2df1-4155-8b4d-7c9eb26e72f0",
   "metadata": {},
   "source": [
    "***(iii) Height data of a class: [178.9, 179, 179.5, 176, 177.2, 178.3, 175.8,...]***"
   ]
  },
  {
   "cell_type": "markdown",
   "id": "0d7767f7-5077-460b-863c-302f3b86b147",
   "metadata": {},
   "source": [
    "***Data Type:*** Quantitative (Continuous)"
   ]
  },
  {
   "cell_type": "markdown",
   "id": "c2ab49a7-ee87-4287-99d3-d579beaa014b",
   "metadata": {},
   "source": [
    "***(iv) Number of mangoes exported by a farm: [500, 600, 478, 672, ...]***"
   ]
  },
  {
   "cell_type": "markdown",
   "id": "928e4a57-830a-437d-8118-e7b85db4157f",
   "metadata": {},
   "source": [
    "***Data Type:*** Quantitative (Discrete)"
   ]
  },
  {
   "cell_type": "markdown",
   "id": "de0d0cac-5247-4490-a776-a3dd9f8a6faa",
   "metadata": {},
   "source": [
    "<span style=color:green>Q5. Explain the concept of levels of measurement and give an example of a variable for each level.</span>"
   ]
  },
  {
   "cell_type": "markdown",
   "id": "4b970ea8-7ce4-4544-8e2e-5cd663356302",
   "metadata": {},
   "source": [
    "Ans-"
   ]
  },
  {
   "cell_type": "markdown",
   "id": "97da2bcd-8c32-4a8b-b2a3-9a0488fd5b4b",
   "metadata": {},
   "source": [
    "\n",
    "Levels of measurement, also known as scales of measurement, refer to the different ways in which variables can be measured or classified. There are four main levels of measurement: nominal, ordinal, interval, and ratio."
   ]
  },
  {
   "cell_type": "markdown",
   "id": "43c289b9-9668-4f68-b7a6-11b862e920ba",
   "metadata": {},
   "source": [
    "***Nominal data:***"
   ]
  },
  {
   "cell_type": "markdown",
   "id": "c524d5d7-e54e-4bbb-81c4-304707640b35",
   "metadata": {},
   "source": [
    "Nominal data consists of categories or labels with no inherent order or ranking."
   ]
  },
  {
   "cell_type": "markdown",
   "id": "330ba916-cc6e-443a-ad4f-94adf5cfc56e",
   "metadata": {},
   "source": [
    "***Example:*** Colors of cars (e.g., red, blue, green). There is no inherent order among these categories."
   ]
  },
  {
   "cell_type": "markdown",
   "id": "53649001-b272-4a6c-b7d1-bb57ada85301",
   "metadata": {},
   "source": [
    "***Ordinal Level:***"
   ]
  },
  {
   "cell_type": "markdown",
   "id": "35fd5b3d-99a4-4374-83c3-c84a8649800c",
   "metadata": {},
   "source": [
    " Ordinal data has a meaningful order or ranking, but the intervals between values are not consistent or meaningful."
   ]
  },
  {
   "cell_type": "markdown",
   "id": "6a141628-b70b-4cd2-9b51-fdb5fe193d3a",
   "metadata": {},
   "source": [
    "***Example:*** Education levels (e.g., high school diploma, bachelor's degree, master's degree). There is an order, but the difference between education levels may not be consistent."
   ]
  },
  {
   "cell_type": "markdown",
   "id": "3e683b2e-b886-4762-9680-9cbbfef2a511",
   "metadata": {},
   "source": [
    "***Interval Level:***"
   ]
  },
  {
   "cell_type": "markdown",
   "id": "1e6b8a48-b9bb-4320-bcd4-f42fc07a3156",
   "metadata": {},
   "source": [
    " Interval data has a meaningful order, and the intervals between values are equal. However, it lacks a true zero point."
   ]
  },
  {
   "cell_type": "markdown",
   "id": "d4ea0856-b0f4-4d72-97b8-58797eb65449",
   "metadata": {},
   "source": [
    "***Example:*** Temperature measured in Celsius or Fahrenheit. The difference between 20°C and 30°C is the same as between 30°C and 40°C, but 0°C does not indicate the absence of temperature."
   ]
  },
  {
   "cell_type": "markdown",
   "id": "91afdbcf-5ac8-4a2a-9a44-fa91dada7151",
   "metadata": {},
   "source": [
    "***Ratio Level:***"
   ]
  },
  {
   "cell_type": "markdown",
   "id": "2438bd18-68ba-49cf-bc50-a4ec91a08d9c",
   "metadata": {},
   "source": [
    " Ratio data has a meaningful order, equal intervals, and a true zero point, indicating the absence of the quantity."
   ]
  },
  {
   "cell_type": "markdown",
   "id": "0cfedc17-0338-43a8-83eb-57e7014cb201",
   "metadata": {},
   "source": [
    "***Example:*** Height, weight, income, and age. The ratio of 6 feet to 3 feet has a meaning, and 0 indicates the absence of height."
   ]
  },
  {
   "cell_type": "markdown",
   "id": "2a50f665-ebf2-41af-95b4-2fc6aa54d8b6",
   "metadata": {},
   "source": [
    "<span style=color:green>Q6. Why is it important to understand the level of measurement when analyzing data? Provide an\n",
    "example to illustrate your answer.</span>"
   ]
  },
  {
   "cell_type": "markdown",
   "id": "d65c7f4f-8341-4ed7-b36d-8c850aec23a0",
   "metadata": {},
   "source": [
    "Ans-"
   ]
  },
  {
   "cell_type": "markdown",
   "id": "0893b5c5-19b8-4b69-8c22-3393b85672eb",
   "metadata": {},
   "source": [
    "\n",
    "Understanding the level of measurement is crucial when analyzing data because it determines the types of statistical analyses and operations that can be applied to the data."
   ]
  },
  {
   "cell_type": "markdown",
   "id": "cc950c12-77f5-4f9f-ba1b-818de22716a2",
   "metadata": {},
   "source": [
    "***Appropriate statistical analysis:***"
   ]
  },
  {
   "cell_type": "markdown",
   "id": "301ed204-815c-4a49-993a-7426e85e5b44",
   "metadata": {},
   "source": [
    "Different statistical methods are suitable for different levels of measurement. Using the right analysis ensures accurate and meaningful results. For example, parametric tests like t-tests and ANOVA are appropriate for interval and ratio data, but not for ordinal or nominal data."
   ]
  },
  {
   "cell_type": "markdown",
   "id": "0e1f267b-c820-4d63-9313-33925753e792",
   "metadata": {},
   "source": [
    "***Meaningful interpretation:***"
   ]
  },
  {
   "cell_type": "markdown",
   "id": "843bb261-616a-447d-9038-07a4c340b9f8",
   "metadata": {},
   "source": [
    "The level of measurement influences the interpretation of summary statistics. For instance, the mean and standard deviation make sense for interval and ratio data but may not be meaningful for ordinal or nominal data."
   ]
  },
  {
   "cell_type": "markdown",
   "id": "3eb92bc4-98c2-4f13-b603-18df1f9eed1a",
   "metadata": {},
   "source": [
    "***Compaisons and relationships:***"
   ]
  },
  {
   "cell_type": "markdown",
   "id": "682478a6-1110-4d70-b33d-326054e095f0",
   "metadata": {},
   "source": [
    "Understanding the level of measurement is crucial when making comparisons or assessing relationships between variables. Applying inappropriate methods may lead to erroneous conclusions. For example, calculating the average income (ratio data) is meaningful, but finding the average education level (ordinal data) is not as straightforward."
   ]
  },
  {
   "cell_type": "markdown",
   "id": "28f26905-83db-4779-8d26-8e271d5659ff",
   "metadata": {},
   "source": [
    "***Data Transformation:***"
   ]
  },
  {
   "cell_type": "markdown",
   "id": "514686b2-a2db-4781-8275-ae1b3a0c641d",
   "metadata": {},
   "source": [
    "Depending on the level of measurement, data may need to be transformed before analysis. For example, converting nominal data into numerical codes may be necessary for certain statistical procedures."
   ]
  },
  {
   "cell_type": "markdown",
   "id": "39c28348-ce3d-4513-b718-bcb3a67d634f",
   "metadata": {},
   "source": [
    "***Example:***"
   ]
  },
  {
   "cell_type": "markdown",
   "id": "54dfb3fe-1097-405a-8a7e-d6a30183a850",
   "metadata": {},
   "source": [
    "Consider a dataset that includes information about the education levels of individuals (nominal data) and their annual incomes (ratio data). If one were to use a simple average to describe education levels, it would be misleading because education levels are ordinal and do not have equal intervals. On the other hand, using the same average to describe annual income makes sense because it is ratio data with a true zero point."
   ]
  },
  {
   "cell_type": "markdown",
   "id": "39526ddc-d273-47c8-9cd3-8ac41ef66793",
   "metadata": {},
   "source": [
    "<span style=color:green>Q7. How nominal data type is different from ordinal data type.</span>"
   ]
  },
  {
   "cell_type": "markdown",
   "id": "e727de46-1267-4ad1-80ab-acdee0a2385d",
   "metadata": {},
   "source": [
    "Ans-"
   ]
  },
  {
   "cell_type": "markdown",
   "id": "8bba3d84-63d0-433b-beb2-fe5c98cb2726",
   "metadata": {},
   "source": [
    "\n",
    "Nominal data and ordinal data are two different levels of measurement in statistics, and they have distinct characteristics. Here are the key differences between nominal and ordinal data:"
   ]
  },
  {
   "cell_type": "markdown",
   "id": "6ac82da0-51cc-4f2b-bdf8-5a9766180310",
   "metadata": {},
   "source": [
    "***Nature of Categories:***"
   ]
  },
  {
   "cell_type": "markdown",
   "id": "e7cf58eb-e3c3-41fc-bf0c-a4ab7db067f6",
   "metadata": {},
   "source": [
    "***Nominal Data:*** Nominal data consists of categories or labels with no inherent order or ranking. The categories are distinct and have no quantitative value in relation to each other."
   ]
  },
  {
   "cell_type": "markdown",
   "id": "e78aa18c-52a9-4aaf-b4bf-8ffe548f1cda",
   "metadata": {},
   "source": [
    "***Ordinal Data:*** Ordinal data, on the other hand, represents categories with a meaningful order or ranking. The categories have a relative position in terms of greater or lesser, but the intervals between them are not necessarily equal."
   ]
  },
  {
   "cell_type": "markdown",
   "id": "ebd975d1-4a33-4086-bf5e-ccd735c17443",
   "metadata": {},
   "source": [
    "***Order of ranking:***"
   ]
  },
  {
   "cell_type": "markdown",
   "id": "ea9330f3-e361-4342-bde4-af6b391e2a19",
   "metadata": {},
   "source": [
    "***Nominal Data:*** There is no inherent order among the categories. They are simply different and do not imply any level of preference or ranking."
   ]
  },
  {
   "cell_type": "markdown",
   "id": "a05034cb-e7c7-4d4f-8e57-98b003983dae",
   "metadata": {},
   "source": [
    "***Ordinal Data:*** Ordinal data has a meaningful order. The categories represent a rank order, indicating that one category is higher or lower than another, but the exact difference in magnitude between categories is not known."
   ]
  },
  {
   "cell_type": "markdown",
   "id": "19dea72f-9f7f-4703-ad7e-4d487e1e107f",
   "metadata": {},
   "source": [
    "***Mathematical Operations:***"
   ]
  },
  {
   "cell_type": "markdown",
   "id": "05aa4b4f-6b58-4ed6-a4cf-dcacc4934d87",
   "metadata": {},
   "source": [
    "***Nominal Data:*** No mathematical operations, such as addition or subtraction, can be performed on nominal data. It is not meaningful to say that one category is \"more\" or \"less\" than another."
   ]
  },
  {
   "cell_type": "markdown",
   "id": "ad3cdb66-2505-4fea-b0e4-e8dcbbb8c817",
   "metadata": {},
   "source": [
    "***Ordinal Data:*** While ordinal data has a sense of order, the intervals between categories are not uniform. Therefore, mathematical operations like addition or subtraction are not valid. It is appropriate for rank-based comparisons and non-parametric statistical tests."
   ]
  },
  {
   "cell_type": "markdown",
   "id": "380902a2-7961-4a03-94ae-24967acdd30c",
   "metadata": {},
   "source": [
    "<span style=color:green>Q8. Which type of plot can be used to display data in terms of range?</span>"
   ]
  },
  {
   "cell_type": "markdown",
   "id": "1797eaec-3c9f-469a-923b-6c3e797a0ac6",
   "metadata": {},
   "source": [
    "Ans-"
   ]
  },
  {
   "cell_type": "markdown",
   "id": "82ae8beb-29da-4e6e-94bd-3b4388d5513a",
   "metadata": {},
   "source": [
    "A box plot, also known as a box-and-whisker plot, is commonly used to display data in terms of range. A box plot provides a visual summary of the distribution of a dataset and allows you to see the central tendency, spread, and any potential outliers."
   ]
  },
  {
   "cell_type": "markdown",
   "id": "cb6dbcbd-ad45-45bc-913b-a3b91c49e9ee",
   "metadata": {},
   "source": [
    "***In a box plot:***"
   ]
  },
  {
   "cell_type": "markdown",
   "id": "50b1488f-42e2-4fcf-b8fe-3af9f5189a7b",
   "metadata": {},
   "source": [
    "The box represents the interquartile range (IQR), which is the range between the first quartile (Q1) and the third quartile (Q3). The height of the box indicates the spread of the middle 50% of the data."
   ]
  },
  {
   "cell_type": "markdown",
   "id": "fa150758-22b2-48d3-9cf3-79bb68982e7c",
   "metadata": {},
   "source": [
    "The line inside the box represents the median (Q2), which is the middle value of the dataset."
   ]
  },
  {
   "cell_type": "markdown",
   "id": "5c5cd0d8-7fbb-4bf4-89e0-4f7fa3643141",
   "metadata": {},
   "source": [
    "The \"whiskers\" extend from the box to the minimum and maximum values within a specified range or, in some cases, to a certain multiple of the interquartile range."
   ]
  },
  {
   "cell_type": "markdown",
   "id": "7cc3b491-f46a-4bc5-8c1d-85c7f6c6178b",
   "metadata": {},
   "source": [
    "Outliers may be plotted individually as points beyond the whiskers, helping to identify any data points that fall significantly outside the main range of the data.\n",
    "\n"
   ]
  },
  {
   "cell_type": "markdown",
   "id": "15fb3980-7855-44ce-b698-af5647dfea76",
   "metadata": {},
   "source": [
    "Box plots are particularly useful for comparing the spread of data across different groups or conditions and for identifying any skewness, central tendency, or presence of outliers in the dataset. They are a valuable tool in exploratory data analysis and are commonly used in various fields, including statistics, data science, and the social and natural sciences.\n",
    "\n",
    "\n",
    "\n",
    "\n",
    "\n"
   ]
  },
  {
   "cell_type": "markdown",
   "id": "767f811b-df83-425f-a69e-d5cb44fd03f1",
   "metadata": {},
   "source": [
    "<span style=color:green>Q9. Describe the difference between descriptive and inferential statistics. Give an example of each\n",
    "type of statistics and explain how they are used.</span>"
   ]
  },
  {
   "cell_type": "markdown",
   "id": "132795cd-692c-413f-87fc-56c7d143c1ce",
   "metadata": {},
   "source": [
    "Ans-\n"
   ]
  },
  {
   "cell_type": "markdown",
   "id": "f9a754a1-ed6a-4915-a64b-d1d3bc15910e",
   "metadata": {},
   "source": [
    "***Descriptive Statistics:***"
   ]
  },
  {
   "cell_type": "markdown",
   "id": "d6afd78d-6f5d-47a6-965d-824008e63c44",
   "metadata": {},
   "source": [
    "***Definition:*** Descriptive statistics involves methods for summarizing, organizing, and describing data. It provides a snapshot of the main features of a dataset without making inferences about a larger population."
   ]
  },
  {
   "cell_type": "markdown",
   "id": "94c9c89a-60fd-4986-a32b-9303c7920264",
   "metadata": {},
   "source": [
    "***Example:*** Consider a dataset of the ages of students in a classroom. Descriptive statistics for this dataset would include measures like the mean age, median age, and the range of ages. Graphical representations such as histograms or box plots could also be used to visually display the distribution of ages."
   ]
  },
  {
   "cell_type": "markdown",
   "id": "7e0d10ac-62b0-45bc-98e9-7e4fa088082a",
   "metadata": {},
   "source": [
    "***Usage:*** Descriptive statistics are used to present and summarize the main features of a dataset. They help researchers and analysts understand the central tendency, variability, and distribution of the data."
   ]
  },
  {
   "cell_type": "markdown",
   "id": "46d6289d-67cb-464b-b1e9-8a771375c459",
   "metadata": {},
   "source": [
    "***Inferential Statistics:***"
   ]
  },
  {
   "cell_type": "markdown",
   "id": "fe7880fa-46eb-459a-87de-73e888e49cf3",
   "metadata": {},
   "source": [
    "***Definition:*** Inferential statistics involves making inferences and predictions about a population based on a sample of data. It extends the findings from a sample to a larger population and helps in drawing conclusions and making predictions."
   ]
  },
  {
   "cell_type": "markdown",
   "id": "47b708de-0a0f-49f8-a302-0e3fb4d5f76a",
   "metadata": {},
   "source": [
    "***Example:*** Suppose you want to know if a new teaching method improves student performance. You could take a sample of students, apply the new teaching method, and compare their test scores to a control group that receives the traditional teaching method. Inferential statistics, such as a t-test, could then be used to determine if the observed difference in test scores is statistically significant and likely to apply to the larger population."
   ]
  },
  {
   "cell_type": "markdown",
   "id": "79613638-dd92-46d3-bc5b-fff088058d7f",
   "metadata": {},
   "source": [
    "***Usage:*** Inferential statistics are used when researchers want to make predictions or draw conclusions about a population based on a sample. They help assess the reliability and generalizability of findings."
   ]
  },
  {
   "cell_type": "markdown",
   "id": "19fc3dea-30e9-4f90-9a6d-795c4e16e6e9",
   "metadata": {},
   "source": [
    "<span style=color:green>Q10. What are some common measures of central tendency and variability used in statistics? Explain\n",
    "how each measure can be used to describe a dataset.</span>"
   ]
  },
  {
   "cell_type": "markdown",
   "id": "7368a324-df77-4307-9260-547c1c13be1e",
   "metadata": {},
   "source": [
    "Ans-"
   ]
  },
  {
   "cell_type": "markdown",
   "id": "52c431f1-84b4-4bf3-9b51-8a37bec16690",
   "metadata": {},
   "source": [
    "***Measures of Central Tendency:***"
   ]
  },
  {
   "cell_type": "markdown",
   "id": "11b3d3e7-2bed-4019-8556-a9773f7590bc",
   "metadata": {},
   "source": [
    "***Mean:*** Average value, sensitive to extremes.\n",
    "***Median:*** Middle value, less affected by extremes.\n",
    "***Mode:*** Most frequently occurring value."
   ]
  },
  {
   "cell_type": "markdown",
   "id": "8f04e7c1-38a5-49a2-97c8-5a5fd3e7360e",
   "metadata": {},
   "source": [
    "***Measures of variability:***"
   ]
  },
  {
   "cell_type": "markdown",
   "id": "5a301239-df48-46c6-b8d9-deb845d8d201",
   "metadata": {},
   "source": [
    "***Range:*** Difference between max and min values.\n",
    "***Variance:*** Average of squared differences from the mean.\n",
    "***Standard Deviation:*** Square root of variance, average distance from mean.\n",
    "***Interquartile Range (IQR):*** Range of the middle 50% of data, less sensitive to outliers.\n",
    "\n",
    "\n",
    "\n",
    "\n"
   ]
  },
  {
   "cell_type": "code",
   "execution_count": null,
   "id": "cded1a1e-05e0-4d13-88aa-52213ee6c266",
   "metadata": {},
   "outputs": [],
   "source": []
  }
 ],
 "metadata": {
  "kernelspec": {
   "display_name": "Python 3 (ipykernel)",
   "language": "python",
   "name": "python3"
  },
  "language_info": {
   "codemirror_mode": {
    "name": "ipython",
    "version": 3
   },
   "file_extension": ".py",
   "mimetype": "text/x-python",
   "name": "python",
   "nbconvert_exporter": "python",
   "pygments_lexer": "ipython3",
   "version": "3.10.8"
  }
 },
 "nbformat": 4,
 "nbformat_minor": 5
}
